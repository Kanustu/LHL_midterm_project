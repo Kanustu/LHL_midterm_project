{
 "cells": [
  {
   "cell_type": "code",
   "execution_count": 1,
   "id": "99bfe98b-c113-472a-9466-ca63d7441fe0",
   "metadata": {},
   "outputs": [],
   "source": [
    "# Importing the pandas library as 'pd'\n",
    "import pandas as pd\n",
    "\n",
    "# Importing the numpy library as 'np'\n",
    "import numpy as np\n"
   ]
  },
  {
   "cell_type": "code",
   "execution_count": 2,
   "id": "9e6cd34c-e30f-402c-8380-76bb508aa3df",
   "metadata": {},
   "outputs": [],
   "source": [
    "# Creating dataframe from csv\n",
    "raw_data =  pd.read_csv('../data/raw_data.csv')"
   ]
  },
  {
   "cell_type": "code",
   "execution_count": 3,
   "id": "dc0fad6c-dfd7-493e-b095-f113d09b257a",
   "metadata": {},
   "outputs": [],
   "source": [
    "# Drop unneeded columns\n",
    "raw_data.drop(columns=['Unnamed: 0'], inplace=True)"
   ]
  },
  {
   "cell_type": "code",
   "execution_count": 4,
   "id": "cbe4774f-67cd-4484-ab5b-d94835a520aa",
   "metadata": {},
   "outputs": [
    {
     "data": {
      "text/plain": [
       "Index(['om', 'yr', 'mo', 'dy', 'date', 'time', 'tz', 'datetime_utc', 'st',\n",
       "       'stf', 'mag', 'inj', 'fat', 'loss', 'slat', 'slon', 'elat', 'elon',\n",
       "       'len', 'wid', 'ns', 'sn', 'f1', 'f2', 'f3', 'f4', 'fc', 'tempc'],\n",
       "      dtype='object')"
      ]
     },
     "execution_count": 4,
     "metadata": {},
     "output_type": "execute_result"
    }
   ],
   "source": [
    "raw_data.columns"
   ]
  },
  {
   "cell_type": "code",
   "execution_count": 5,
   "id": "e60e7e20-ff64-4c08-a9aa-32630ad46219",
   "metadata": {},
   "outputs": [],
   "source": [
    "# Rename columns\n",
    "raw_data.rename(columns={'om':'id', 'yr':'year', 'mo':'month', 'dy':'day', 'tz':'timezone',\n",
    "                        'st':'state','stf':'state_fips','mag':'magnitude','inj':'injuries',\n",
    "                        'fat':'fatalities','loss':'prop_loss','slat':'start_lat','slon':'start_lon',\n",
    "                        'elat':'end_lat','elon':'end_lon','len':'length','wid':'width','ns':'num_of_states',\n",
    "                         'sn':'state_num','fc':'mag_estimated'\n",
    "                        }, inplace=True)"
   ]
  },
  {
   "cell_type": "code",
   "execution_count": 6,
   "id": "db49ec5c-1780-4cd6-9662-cedae74b17a1",
   "metadata": {},
   "outputs": [],
   "source": [
    "# Drop unneeded columns\n",
    "raw_data.drop(columns=['month','day'], inplace=True)"
   ]
  },
  {
   "cell_type": "code",
   "execution_count": 7,
   "id": "6596d139-ec24-4f3c-aa60-2026a0d4a1a0",
   "metadata": {},
   "outputs": [],
   "source": [
    "# Convert yards to meters\n",
    "raw_data['width'] = raw_data['width'] * 0.9144"
   ]
  },
  {
   "cell_type": "code",
   "execution_count": 8,
   "id": "554049a3-5fb5-4b59-bf37-2eb7cf360ee1",
   "metadata": {},
   "outputs": [],
   "source": [
    "# Convert miles to meters\n",
    "raw_data['length'] = raw_data['length'] * 1609.34"
   ]
  },
  {
   "cell_type": "code",
   "execution_count": 9,
   "id": "abc83081-ad7b-4292-91f7-b6c44a46ef26",
   "metadata": {},
   "outputs": [],
   "source": [
    "# Change column names to reflect metric changes\n",
    "raw_data.rename(columns={'width':'width(m)','length':'length(m)'}, inplace=True)"
   ]
  },
  {
   "cell_type": "code",
   "execution_count": 25,
   "id": "6df67446-9949-468e-be79-346a18c00732",
   "metadata": {},
   "outputs": [
    {
     "data": {
      "text/html": [
       "<div>\n",
       "<style scoped>\n",
       "    .dataframe tbody tr th:only-of-type {\n",
       "        vertical-align: middle;\n",
       "    }\n",
       "\n",
       "    .dataframe tbody tr th {\n",
       "        vertical-align: top;\n",
       "    }\n",
       "\n",
       "    .dataframe thead th {\n",
       "        text-align: right;\n",
       "    }\n",
       "</style>\n",
       "<table border=\"1\" class=\"dataframe\">\n",
       "  <thead>\n",
       "    <tr style=\"text-align: right;\">\n",
       "      <th></th>\n",
       "      <th>id</th>\n",
       "      <th>year</th>\n",
       "      <th>date</th>\n",
       "      <th>time</th>\n",
       "      <th>timezone</th>\n",
       "      <th>datetime_utc</th>\n",
       "      <th>state</th>\n",
       "      <th>state_fips</th>\n",
       "      <th>magnitude</th>\n",
       "      <th>injuries</th>\n",
       "      <th>...</th>\n",
       "      <th>length(m)</th>\n",
       "      <th>width(m)</th>\n",
       "      <th>num_of_states</th>\n",
       "      <th>state_num</th>\n",
       "      <th>f1</th>\n",
       "      <th>f2</th>\n",
       "      <th>f3</th>\n",
       "      <th>f4</th>\n",
       "      <th>mag_estimated</th>\n",
       "      <th>tempc</th>\n",
       "    </tr>\n",
       "  </thead>\n",
       "  <tbody>\n",
       "  </tbody>\n",
       "</table>\n",
       "<p>0 rows × 26 columns</p>\n",
       "</div>"
      ],
      "text/plain": [
       "Empty DataFrame\n",
       "Columns: [id, year, date, time, timezone, datetime_utc, state, state_fips, magnitude, injuries, fatalities, prop_loss, start_lat, start_lon, end_lat, end_lon, length(m), width(m), num_of_states, state_num, f1, f2, f3, f4, mag_estimated, tempc]\n",
       "Index: []\n",
       "\n",
       "[0 rows x 26 columns]"
      ]
     },
     "execution_count": 25,
     "metadata": {},
     "output_type": "execute_result"
    }
   ],
   "source": [
    "# Checking for single numeric values\n",
    "raw_data[raw_data['prop_loss'] <= 9]"
   ]
  },
  {
   "cell_type": "code",
   "execution_count": 42,
   "id": "2bab99c2-5419-4654-9507-a4c52a7040a9",
   "metadata": {},
   "outputs": [],
   "source": [
    "# Checking for when the nulls occur in the df\n",
    "raw_data[raw_data['magnitude'].isnull()].sort_values(by='year')"
   ]
  },
  {
   "cell_type": "code",
   "execution_count": 64,
   "id": "5d39f6dc-0d84-4bf9-825e-0a93d0551ec7",
   "metadata": {},
   "outputs": [],
   "source": [
    "# Export to csv\n",
    "raw_data.to_csv('../data/clean_df.csv', index=False)"
   ]
  }
 ],
 "metadata": {
  "kernelspec": {
   "display_name": "ava",
   "language": "python",
   "name": "ava"
  },
  "language_info": {
   "codemirror_mode": {
    "name": "ipython",
    "version": 3
   },
   "file_extension": ".py",
   "mimetype": "text/x-python",
   "name": "python",
   "nbconvert_exporter": "python",
   "pygments_lexer": "ipython3",
   "version": "3.9.16"
  }
 },
 "nbformat": 4,
 "nbformat_minor": 5
}
