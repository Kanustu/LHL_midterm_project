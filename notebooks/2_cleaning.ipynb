{
 "cells": [
  {
   "cell_type": "code",
   "execution_count": 2,
   "id": "99bfe98b-c113-472a-9466-ca63d7441fe0",
   "metadata": {},
   "outputs": [],
   "source": [
    "import pandas as pd\n",
    "import numpy as np"
   ]
  },
  {
   "cell_type": "code",
   "execution_count": 57,
   "id": "9e6cd34c-e30f-402c-8380-76bb508aa3df",
   "metadata": {},
   "outputs": [],
   "source": [
    "raw_data =  pd.read_csv('../data/raw_data.csv')"
   ]
  },
  {
   "cell_type": "code",
   "execution_count": 70,
   "id": "2fe18f1a-a26e-4c7e-9761-f1ea4c50a929",
   "metadata": {},
   "outputs": [
    {
     "data": {
      "text/plain": [
       "0        15.80\n",
       "1         2.00\n",
       "2         0.10\n",
       "3         0.10\n",
       "4         2.00\n",
       "         ...  \n",
       "65149     1.37\n",
       "65150     2.86\n",
       "65151     0.10\n",
       "65152     1.56\n",
       "65153     0.19\n",
       "Name: length, Length: 65154, dtype: float64"
      ]
     },
     "execution_count": 70,
     "metadata": {},
     "output_type": "execute_result"
    }
   ],
   "source": [
    "raw_data['length']"
   ]
  },
  {
   "cell_type": "raw",
   "id": "34e7d12d-7106-4f5a-8f89-c0fb9a8fa133",
   "metadata": {},
   "source": []
  },
  {
   "cell_type": "code",
   "execution_count": 59,
   "id": "dc0fad6c-dfd7-493e-b095-f113d09b257a",
   "metadata": {},
   "outputs": [],
   "source": [
    "#drop columns\n",
    "raw_data.drop(columns=['Unnamed: 0'], inplace=True)"
   ]
  },
  {
   "cell_type": "code",
   "execution_count": 60,
   "id": "e60e7e20-ff64-4c08-a9aa-32630ad46219",
   "metadata": {},
   "outputs": [],
   "source": [
    "# renamed columns\n",
    "raw_data.rename(columns={'om':'id', 'yr':'year', 'mo':'month', 'dy':'day', 'tz':'timezone',\n",
    "                        'st':'state','stf':'state_fips','mag':'magnitude','inj':'injuries',\n",
    "                        'fat':'fatalities','loss':'prop_loss','slat':'start_lat','slon':'start_lon',\n",
    "                        'elat':'end_lat','elon':'end_lon','len':'length','wid':'width','ns':'num_of_states'\n",
    "                        }, inplace=True)"
   ]
  },
  {
   "cell_type": "code",
   "execution_count": 61,
   "id": "db49ec5c-1780-4cd6-9662-cedae74b17a1",
   "metadata": {},
   "outputs": [],
   "source": [
    "#drop columns\n",
    "raw_data.drop(columns=['year', 'month','day'], inplace=True)"
   ]
  },
  {
   "cell_type": "code",
   "execution_count": 62,
   "id": "6596d139-ec24-4f3c-aa60-2026a0d4a1a0",
   "metadata": {},
   "outputs": [],
   "source": [
    "#convert yards to meters\n",
    "raw_data['width'] = raw_data['width'] * 3"
   ]
  },
  {
   "cell_type": "code",
   "execution_count": 71,
   "id": "554049a3-5fb5-4b59-bf37-2eb7cf360ee1",
   "metadata": {},
   "outputs": [],
   "source": [
    "#convert miles to km\n",
    "raw_data['length'] = raw_data['length'] * 1.60934"
   ]
  },
  {
   "cell_type": "code",
   "execution_count": 73,
   "id": "abc83081-ad7b-4292-91f7-b6c44a46ef26",
   "metadata": {},
   "outputs": [],
   "source": [
    "#change column names to reflect metric changes\n",
    "raw_data.rename(columns={'width':'width()','length':'length(km)'}, inplace=True)"
   ]
  },
  {
   "cell_type": "code",
   "execution_count": 54,
   "id": "aa89010a-fb97-4181-ac87-e56d11208fee",
   "metadata": {},
   "outputs": [],
   "source": []
  },
  {
   "cell_type": "code",
   "execution_count": 74,
   "id": "b3188e02-0ac0-4add-8de9-7c724d26934f",
   "metadata": {},
   "outputs": [
    {
     "data": {
      "text/plain": [
       "Index(['id', 'date', 'time', 'timezone', 'datetime_utc', 'state', 'state_fips',\n",
       "       'magnitude', 'injuries', 'fatalities', 'prop_loss', 'start_lat',\n",
       "       'start_lon', 'end_lat', 'end_lon', 'length(km)', 'width(ft)',\n",
       "       'num_of_states', 'sn', 'f1', 'f2', 'f3', 'f4', 'fc', 'tempc'],\n",
       "      dtype='object')"
      ]
     },
     "execution_count": 74,
     "metadata": {},
     "output_type": "execute_result"
    }
   ],
   "source": [
    "raw_data.columns"
   ]
  },
  {
   "cell_type": "code",
   "execution_count": null,
   "id": "c7f652bb-c0f2-448a-af22-b91832eb3a9c",
   "metadata": {},
   "outputs": [],
   "source": []
  },
  {
   "cell_type": "raw",
   "id": "620ebb87-2cf3-4d46-93c4-d3c3027ac031",
   "metadata": {},
   "source": []
  }
 ],
 "metadata": {
  "kernelspec": {
   "display_name": "ava",
   "language": "python",
   "name": "ava"
  },
  "language_info": {
   "codemirror_mode": {
    "name": "ipython",
    "version": 3
   },
   "file_extension": ".py",
   "mimetype": "text/x-python",
   "name": "python",
   "nbconvert_exporter": "python",
   "pygments_lexer": "ipython3",
   "version": "3.9.16"
  }
 },
 "nbformat": 4,
 "nbformat_minor": 5
}
